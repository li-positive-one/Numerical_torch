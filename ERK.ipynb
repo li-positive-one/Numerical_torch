{
  "nbformat": 4,
  "nbformat_minor": 0,
  "metadata": {
    "colab": {
      "name": "ERK.ipynb",
      "provenance": [],
      "authorship_tag": "ABX9TyMUlzNQCaaouPDqcvmPMytI",
      "include_colab_link": true
    },
    "kernelspec": {
      "name": "python3",
      "display_name": "Python 3"
    },
    "language_info": {
      "name": "python"
    }
  },
  "cells": [
    {
      "cell_type": "markdown",
      "metadata": {
        "id": "view-in-github",
        "colab_type": "text"
      },
      "source": [
        "<a href=\"https://colab.research.google.com/github/li-positive-one/Numerical_torch/blob/main/ERK.ipynb\" target=\"_parent\"><img src=\"https://colab.research.google.com/assets/colab-badge.svg\" alt=\"Open In Colab\"/></a>"
      ]
    },
    {
      "cell_type": "code",
      "metadata": {
        "colab": {
          "base_uri": "https://localhost:8080/"
        },
        "id": "buUOdm12WAT8",
        "outputId": "0d21973f-b044-4842-e766-4260b636fe8a"
      },
      "source": [
        "# 显式Runge-Kutta方程\n",
        "\n",
        "import numpy as np\n",
        "\n",
        "# u_t=f(t,u)\n",
        "\n",
        "# Butcher tableau\n",
        "# c|A\n",
        "# ---\n",
        "#  |b\n",
        "\n",
        "\n",
        "class RK:\n",
        "    def __init__(self, c, b, A) -> None:\n",
        "        self.Stage = len(c)\n",
        "        if len(b) != self.Stage or A.shape[0] != A.shape[1] or A.shape[0] != self.Stage:\n",
        "            raise ValueError(\"Invalid Butcher tableau\")\n",
        "        self.c = c\n",
        "        self.b = b\n",
        "        self.A = A\n",
        "\n",
        "    def __call__(self, f, t0, u0, h, f0=None):\n",
        "        k_list = []\n",
        "        for i in range(self.Stage):\n",
        "            if i==0 and f0 is not None and self.A[0, 0]==0:\n",
        "                k_list.append(f0)\n",
        "            else:\n",
        "                k_list.append(\n",
        "                    f(\n",
        "                        t0 + self.c[i] * h,\n",
        "                        u0 + h * sum([self.A[i, j] * k_list[j] for j in range(i)]),\n",
        "                    )\n",
        "                )\n",
        "        u = u0 + h * sum([k_list[j] * self.b[j] for j in range(self.Stage)])\n",
        "        return u\n",
        "\n",
        "class RK1(RK):\n",
        "    def __init__(self) -> None:\n",
        "        c = np.array([0])\n",
        "        b = np.array([1])\n",
        "        A = np.array([[0]])\n",
        "        super().__init__(c, b, A)\n",
        "\n",
        "\n",
        "class RK2(RK):\n",
        "    def __init__(self, alpha=1 / 2) -> None:\n",
        "        c = np.array([0, alpha])\n",
        "        b = np.array([1 - 1 / (2 * alpha), 1 / (2 * alpha)])\n",
        "        A = np.array([[0, 0], [alpha, 0]])\n",
        "        super().__init__(c, b, A)\n",
        "\n",
        "class RK3_SSP(RK):\n",
        "    def __init__(self) -> None:\n",
        "        c = np.array([0, 1, 0.5])\n",
        "        b = np.array([1/6, 1/6, 2/3])\n",
        "        A = np.array([[0, 0, 0], [1, 0, 0],[1/4, 1/4, 0]])\n",
        "        super().__init__(c, b, A)\n",
        "\n",
        "class RK4(RK):\n",
        "    def __init__(self) -> None:\n",
        "        c = np.array([0, 0.5, 0.5, 1])\n",
        "        b = np.array([1 / 6, 1 / 3, 1 / 3, 1 / 6])\n",
        "        A = np.array([[0, 0, 0, 0], [1 / 2, 0, 0, 0], [0, 1 / 2, 0, 0], [0, 0, 1, 0]])\n",
        "        super().__init__(c, b, A)\n",
        "\n",
        "\n",
        "class RK4_2(RK):\n",
        "    def __init__(self) -> None:\n",
        "        c = np.array([0, 1 / 3, 2 / 3, 1])\n",
        "        b = np.array([1 / 8, 3 / 8, 3 / 8, 1 / 8])\n",
        "        A = np.array([[0, 0, 0, 0], [1 / 3, 0, 0, 0], [-1 / 3, 1, 0, 0], [1, -1, 1, 0]])\n",
        "        super().__init__(c, b, A)\n",
        "\n",
        "\n",
        "if __name__ == \"__main__\":\n",
        "    a = RK4_2()\n",
        "    # print(a.c, a.b, a.A)\n",
        "    f = lambda t, x: x\n",
        "    u = 1\n",
        "    for i in range(10):\n",
        "        u = a(f, 0, u, 1 / 10)\n",
        "    print(\"error is:\", u - np.exp(1))"
      ],
      "execution_count": 1,
      "outputs": [
        {
          "output_type": "stream",
          "text": [
            "error is: -2.0843238792700447e-06\n"
          ],
          "name": "stdout"
        }
      ]
    },
    {
      "cell_type": "code",
      "metadata": {
        "id": "IdsWqjQDWHNI"
      },
      "source": [
        ""
      ],
      "execution_count": null,
      "outputs": []
    }
  ]
}